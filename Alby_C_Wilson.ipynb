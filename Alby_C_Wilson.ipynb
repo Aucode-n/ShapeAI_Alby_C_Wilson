{
  "nbformat": 4,
  "nbformat_minor": 0,
  "metadata": {
    "colab": {
      "name": "Alby C Wilson.ipynb",
      "provenance": [],
      "collapsed_sections": []
    },
    "kernelspec": {
      "name": "python3",
      "display_name": "Python 3"
    },
    "language_info": {
      "name": "python"
    }
  },
  "cells": [
    {
      "cell_type": "code",
      "metadata": {
        "id": "X9dJPdxIC4GE",
        "colab": {
          "base_uri": "https://localhost:8080/"
        },
        "outputId": "1cc09311-b197-49a9-96f2-e60fee2e4b47"
      },
      "source": [
        "from keras.datasets import mnist\n",
        "data = mnist.load_data()"
      ],
      "execution_count": 1,
      "outputs": [
        {
          "output_type": "stream",
          "text": [
            "Downloading data from https://storage.googleapis.com/tensorflow/tf-keras-datasets/mnist.npz\n",
            "11493376/11490434 [==============================] - 0s 0us/step\n"
          ],
          "name": "stdout"
        }
      ]
    },
    {
      "cell_type": "code",
      "metadata": {
        "id": "Pt4Uacbam9q4"
      },
      "source": [
        "((X_train, y_train), (X_test, y_test)) = data"
      ],
      "execution_count": 4,
      "outputs": []
    },
    {
      "cell_type": "code",
      "metadata": {
        "id": "gxhYKYNunmRb"
      },
      "source": [
        "X_train = X_train.reshape((X_train.shape[0], 28*28)).astype('float32')\n",
        "X_test = X_test.reshape((X_test.shape[0], 28*28)).astype('float32')"
      ],
      "execution_count": 5,
      "outputs": []
    },
    {
      "cell_type": "code",
      "metadata": {
        "id": "oAqsVEVWrQNS"
      },
      "source": [
        "X_train = X_train/255\n",
        "X_test = X_test/255 "
      ],
      "execution_count": 8,
      "outputs": []
    },
    {
      "cell_type": "code",
      "metadata": {
        "colab": {
          "base_uri": "https://localhost:8080/"
        },
        "id": "hlnSSrzdrws8",
        "outputId": "0f10a391-3808-44ee-b8b7-79a657b40a18"
      },
      "source": [
        "from keras.utils import np_utils\n",
        "print(y_test.shape)\n",
        "y_train = np_utils.to_categorical(y_train)\n",
        "y_test = np_utils.to_categorical(y_test)\n",
        "\n",
        "num_classes = y_test.shape[1]\n",
        "print(y_test.shape)"
      ],
      "execution_count": 9,
      "outputs": [
        {
          "output_type": "stream",
          "text": [
            "(10000,)\n",
            "(10000, 10)\n"
          ],
          "name": "stdout"
        }
      ]
    },
    {
      "cell_type": "code",
      "metadata": {
        "id": "FET-b4JxtIOK"
      },
      "source": [
        "from keras.models import Sequential\n",
        "from keras.layers import Dense"
      ],
      "execution_count": 10,
      "outputs": []
    },
    {
      "cell_type": "code",
      "metadata": {
        "id": "aBOQRD_GtXx8"
      },
      "source": [
        "model = Sequential()\n",
        "model.add(Dense(32, input_dim = 28*28, activation='relu'))\n",
        "model.add(Dense(64, activation='relu'))\n",
        "model.add(Dense(10,activation='softmax'))"
      ],
      "execution_count": 11,
      "outputs": []
    },
    {
      "cell_type": "code",
      "metadata": {
        "id": "xTWfO2jOua57"
      },
      "source": [
        "model.compile(loss='categorical_crossentropy', optimizer='adam',metrics=['accuracy'])"
      ],
      "execution_count": 12,
      "outputs": []
    },
    {
      "cell_type": "code",
      "metadata": {
        "colab": {
          "base_uri": "https://localhost:8080/"
        },
        "id": "nBmZHZafwe92",
        "outputId": "93ee5389-5692-40bf-e191-30c75a1006d5"
      },
      "source": [
        "model.summary()"
      ],
      "execution_count": 13,
      "outputs": [
        {
          "output_type": "stream",
          "text": [
            "Model: \"sequential\"\n",
            "_________________________________________________________________\n",
            "Layer (type)                 Output Shape              Param #   \n",
            "=================================================================\n",
            "dense (Dense)                (None, 32)                25120     \n",
            "_________________________________________________________________\n",
            "dense_1 (Dense)              (None, 64)                2112      \n",
            "_________________________________________________________________\n",
            "dense_2 (Dense)              (None, 10)                650       \n",
            "=================================================================\n",
            "Total params: 27,882\n",
            "Trainable params: 27,882\n",
            "Non-trainable params: 0\n",
            "_________________________________________________________________\n"
          ],
          "name": "stdout"
        }
      ]
    },
    {
      "cell_type": "code",
      "metadata": {
        "colab": {
          "base_uri": "https://localhost:8080/"
        },
        "id": "CbGWF6fbwkLA",
        "outputId": "703a368e-f1e7-4c2e-d341-386d450dd06e"
      },
      "source": [
        "model.fit(X_train, y_train, epochs=10, batch_size=100)"
      ],
      "execution_count": 14,
      "outputs": [
        {
          "output_type": "stream",
          "text": [
            "Epoch 1/10\n",
            "600/600 [==============================] - 2s 2ms/step - loss: 2.3018 - accuracy: 0.1101\n",
            "Epoch 2/10\n",
            "600/600 [==============================] - 1s 2ms/step - loss: 2.3014 - accuracy: 0.1109\n",
            "Epoch 3/10\n",
            "600/600 [==============================] - 1s 2ms/step - loss: 2.3013 - accuracy: 0.1118\n",
            "Epoch 4/10\n",
            "600/600 [==============================] - 1s 2ms/step - loss: 2.3006 - accuracy: 0.1156\n",
            "Epoch 5/10\n",
            "600/600 [==============================] - 1s 2ms/step - loss: 2.3010 - accuracy: 0.1124\n",
            "Epoch 6/10\n",
            "600/600 [==============================] - 1s 2ms/step - loss: 2.3001 - accuracy: 0.1131\n",
            "Epoch 7/10\n",
            "600/600 [==============================] - 1s 2ms/step - loss: 2.2976 - accuracy: 0.1187\n",
            "Epoch 8/10\n",
            "600/600 [==============================] - 1s 2ms/step - loss: 2.2816 - accuracy: 0.1375\n",
            "Epoch 9/10\n",
            "600/600 [==============================] - 1s 2ms/step - loss: 2.2255 - accuracy: 0.1781\n",
            "Epoch 10/10\n",
            "600/600 [==============================] - 1s 2ms/step - loss: 2.1231 - accuracy: 0.2079\n"
          ],
          "name": "stdout"
        },
        {
          "output_type": "execute_result",
          "data": {
            "text/plain": [
              "<tensorflow.python.keras.callbacks.History at 0x7fd347de1850>"
            ]
          },
          "metadata": {
            "tags": []
          },
          "execution_count": 14
        }
      ]
    },
    {
      "cell_type": "code",
      "metadata": {
        "colab": {
          "base_uri": "https://localhost:8080/"
        },
        "id": "LypLvkroxHQK",
        "outputId": "76e29fa9-6d78-41f8-94e2-5069a205cdc9"
      },
      "source": [
        "scores = model.evaluate(X_test, y_test)\n",
        "print(scores)"
      ],
      "execution_count": 15,
      "outputs": [
        {
          "output_type": "stream",
          "text": [
            "313/313 [==============================] - 0s 1ms/step - loss: 2.0421 - accuracy: 0.2148\n",
            "[2.0421032905578613, 0.21480000019073486]\n"
          ],
          "name": "stdout"
        }
      ]
    }
  ]
}